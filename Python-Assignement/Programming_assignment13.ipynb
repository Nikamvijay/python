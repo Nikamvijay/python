{
  "cells": [
    {
      "attachments": {},
      "cell_type": "markdown",
      "metadata": {
        "id": "WZ-ZvMECF0EU"
      },
      "source": [
        "Question 1:\n",
        "Write a program that calculates and prints the value according to the given formula: \\\\\n",
        "Q = Square root of [(2 * C * D)/H] \\\\\n",
        "Following are the fixed values of C and H: \\\\\n",
        "C is 50. H is 30. \\\\\n",
        "D is the variable whose values should be input to your program in a comma-separated\n",
        "sequence. \\\\\n",
        "Example \\\\\n",
        "Let us assume the following comma separated input sequence is given to the  program: \\\\\n",
        "100,150,180 \\\\\n",
        "The output of the program should be: \\\\\n",
        "18,22,24 \\\\"
      ]
    },
    {
      "cell_type": "code",
      "execution_count": null,
      "metadata": {
        "colab": {
          "base_uri": "https://localhost:8080/"
        },
        "id": "0GJ_fnm5GTyr",
        "outputId": "2068c468-abd9-4404-a630-8d0a1c99edb9"
      },
      "outputs": [
        {
          "name": "stdout",
          "output_type": "stream",
          "text": [
            "100,150,180\n",
            "[18, 22, 24]\n"
          ]
        }
      ],
      "source": [
        "import math\n",
        "C=50;H=30\n",
        "Q1=[]\n",
        "D=[int(i) for i in input().split(',')]\n",
        "for i in range(len(D)):\n",
        "  Q = int(math.sqrt((2*C*D[i])/H))\n",
        "  Q1.append(Q)\n",
        "print(Q1)"
      ]
    },
    {
      "attachments": {},
      "cell_type": "markdown",
      "metadata": {
        "id": "yFfaslfBF0Bc"
      },
      "source": [
        "Question 2: \\\\\n",
        "Write a program which takes 2 digits, X,Y as input and generates a 2-dimensional array.The element value in the i-th row and j-th column of the array should be i*j.\n",
        "Note: i=0,1.., X-1; j=0,1,¡Y-1. \\\\\n",
        "Example \\\\\n",
        "Suppose the following inputs are given to the program: \\\\\n",
        "3,5 \\\\\n",
        "Then, the output of the program should be: \\\\\n",
        "[[0, 0, 0, 0, 0], [0, 1, 2, 3, 4], [0, 2, 4, 6, 8]] \\\\"
      ]
    },
    {
      "cell_type": "code",
      "execution_count": null,
      "metadata": {
        "colab": {
          "base_uri": "https://localhost:8080/"
        },
        "id": "1mqQV1AuQyh0",
        "outputId": "4a7541fb-224a-4861-9c9e-0e906aee5c46"
      },
      "outputs": [
        {
          "name": "stdout",
          "output_type": "stream",
          "text": [
            "[[0, 0, 0, 0, 0], [0, 1, 2, 3, 4], [0, 2, 4, 6, 8]]\n"
          ]
        }
      ],
      "source": [
        "from __future__ import print_function\n",
        "X=3;Y=5\n",
        "grid = []\n",
        "for x in range(X):\n",
        "    row = []\n",
        "    for y in range(Y):\n",
        "        row.append(x * y)\n",
        "    grid.append(row)\n",
        "    #print(row)\n",
        "print(grid)"
      ]
    },
    {
      "cell_type": "code",
      "execution_count": null,
      "metadata": {
        "colab": {
          "base_uri": "https://localhost:8080/"
        },
        "id": "7cT_XBAVPVrE",
        "outputId": "74b739ab-1864-4986-c6ea-63210b092506"
      },
      "outputs": [
        {
          "name": "stdout",
          "output_type": "stream",
          "text": [
            "[[15, 15, 15, 15, 15], [15, 15, 15, 15, 15], [15, 15, 15, 15, 15]]\n"
          ]
        }
      ],
      "source": [
        "X=3  # int(input(\"Input number of rows: \"))\n",
        "Y=5 # int(input(\"Input number of columns: \"))\n",
        "arr = [[0 for col in range(Y)] for row in range(X)]\n",
        "for row in range(X):\n",
        "     for col in range(Y):\n",
        "         arr[row][col]= X*Y\n",
        "\n",
        "print(arr)"
      ]
    },
    {
      "cell_type": "code",
      "execution_count": null,
      "metadata": {
        "colab": {
          "base_uri": "https://localhost:8080/"
        },
        "id": "LOASWOTELkTU",
        "outputId": "33cd5187-4fe0-4c20-c2f9-6c6e0bab48a9"
      },
      "outputs": [
        {
          "data": {
            "text/plain": [
              "[[0, 0, 0, 0, 0], [1, 1, 1, 1, 1], [2, 2, 2, 2, 2]]"
            ]
          },
          "execution_count": 27,
          "metadata": {},
          "output_type": "execute_result"
        }
      ],
      "source": [
        "x=3\n",
        "y=5\n",
        "arr=[]\n",
        "for i in range(0, x):\n",
        "  col=[]\n",
        "  for j in range(0,y):\n",
        "    \n",
        "    col.append(i)\n",
        "  arr.append(col)\n",
        "arr"
      ]
    },
    {
      "attachments": {},
      "cell_type": "markdown",
      "metadata": {
        "id": "D5Cx5FELFz-8"
      },
      "source": [
        "Question 3: \\\\\n",
        "Write a program that accepts a comma separated sequence of words as input and prints the\n",
        "words in a comma-separated sequence after sorting them alphabetically.\n",
        "Suppose the following input is supplied to the program: \\\\\n",
        "without,hello,bag,world \\\\\n",
        "Then, the output should be: \\\\\n",
        "bag,hello,without,world \\\\"
      ]
    },
    {
      "cell_type": "code",
      "execution_count": null,
      "metadata": {
        "colab": {
          "base_uri": "https://localhost:8080/"
        },
        "id": "n3wXGRq3Mwwa",
        "outputId": "141875c9-9eba-4d83-d3cf-493754adc54b"
      },
      "outputs": [
        {
          "name": "stdout",
          "output_type": "stream",
          "text": [
            "bag,hello,without,world\n"
          ]
        }
      ],
      "source": [
        "s='without,hello,bag,world'\n",
        "l = s.split(',')\n",
        "k = []\n",
        "for i in l:\n",
        "\tif (s.count(i)>=1 and (i not in k)):\n",
        "\t\tk.append(i)\n",
        "k.sort()\n",
        "string=','.join(k)\n",
        "print(string)"
      ]
    },
    {
      "attachments": {},
      "cell_type": "markdown",
      "metadata": {
        "id": "s5EG3T63Fz5c"
      },
      "source": [
        "Question 4: \\\\\n",
        "Write a program that accepts a sequence of whitespace separated words as input and prints \\\\\n",
        "the words after removing all duplicate words and sorting them alphanumerically.\n",
        "Suppose the following input is supplied to the program: \\\\\n",
        "hello world and practice makes perfect and hello world again \\\\\n",
        "Then, the output should be: \\\\\n",
        "again and hello makes perfect practice world \\\\"
      ]
    },
    {
      "cell_type": "code",
      "execution_count": null,
      "metadata": {
        "colab": {
          "base_uri": "https://localhost:8080/"
        },
        "id": "4obYHHBsWC4D",
        "outputId": "bbbe78c3-ff08-447a-b765-190ccd8c7b68"
      },
      "outputs": [
        {
          "name": "stdout",
          "output_type": "stream",
          "text": [
            "again and hello makes perfect practice world\n"
          ]
        }
      ],
      "source": [
        "#stringwhitespace=[string for string in input().split(' ') ]\n",
        "s='hello world and practice makes perfect and hello world again'\n",
        "l = s.split()\n",
        "k = []\n",
        "for i in l:\n",
        "\tif (s.count(i)>=1 and (i not in k)):\n",
        "\t\tk.append(i)\n",
        "k.sort()\n",
        "string=' '.join(k)\n",
        "print(string)"
      ]
    },
    {
      "attachments": {},
      "cell_type": "markdown",
      "metadata": {
        "id": "gFyMyhNEFz2k"
      },
      "source": [
        "Question 5: \\\\\n",
        "Write a program that accepts a sentence and calculate the number of letters and digits. \\\\\n",
        "Suppose the following input is supplied to the program: \\\\\n",
        "hello world! 123 \\\\\n",
        "Then, the output should be: \\\\\n",
        "LETTERS 10 \\\\\n",
        "\n",
        "DIGITS 3 \\\\"
      ]
    },
    {
      "cell_type": "code",
      "execution_count": null,
      "metadata": {
        "colab": {
          "base_uri": "https://localhost:8080/"
        },
        "id": "as2UGYNHaZ9T",
        "outputId": "cc4a4130-10ec-4244-abee-dd5c9fe331ce"
      },
      "outputs": [
        {
          "name": "stdout",
          "output_type": "stream",
          "text": [
            "Type in: hello world! 123\n",
            "Letters: 10\n",
            "Digits: 3\n"
          ]
        }
      ],
      "source": [
        "seq = input(\"Type in: \")\n",
        "seq = list(seq)\n",
        "l, d = 0, 0\n",
        "for i in seq:\n",
        "    if i.isalpha():\n",
        "        l = l + 1\n",
        "    if i.isdigit():\n",
        "        d = d + 1\n",
        "    else:\n",
        "        pass\n",
        "print(\"Letters:\", l)\n",
        "print(\"Digits:\", d)"
      ]
    },
    {
      "attachments": {},
      "cell_type": "markdown",
      "metadata": {
        "id": "gMeDTFNKGOuM"
      },
      "source": [
        "Question 6:\n",
        "A website requires the users to input username and password to register. Write a program to\n",
        "check the validity of password input by users.\n",
        "Following are the criteria for checking the password:\n",
        "1. At least 1 letter between [a-z]\n",
        "2. At least 1 number between [0-9]\n",
        "1. At least 1 letter between [A-Z]\n",
        "3. At least 1 character from [$#@]\n",
        "4. Minimum length of transaction password: 6\n",
        "5. Maximum length of transaction password: 12 \\\\\n",
        "Your program should accept a sequence of comma separated passwords and will check them \\\\\n",
        "according to the above criteria. Passwords that match the criteria are to be printed, each \\\\\n",
        "separated by a comma. \\\\\n",
        "Example \\\\\n",
        "If the following passwords are given as input to the program: \\\\\n",
        "ABd1234@1,a F1#,2w3E*,2We3345 \\\\\n",
        "Then, the output of the program should be: \\\\\n",
        "ABd1234@1 \\\\"
      ]
    },
    {
      "cell_type": "code",
      "execution_count": 11,
      "metadata": {
        "colab": {
          "base_uri": "https://localhost:8080/"
        },
        "id": "XwZqPNXVLUdQ",
        "outputId": "598bfd70-0aec-4780-e94b-3e5db8db2ceb"
      },
      "outputs": [
        {
          "name": "stdout",
          "output_type": "stream",
          "text": [
            "Type in: ABd1234@1,a F1#,2w3E*,2We3345\n",
            "ABd1234@1\n"
          ]
        }
      ],
      "source": [
        "import re\n",
        "passwords = input(\"Type in: \")\n",
        "passwords = passwords.split(\",\")\n",
        "\n",
        "accepted_pass = []\n",
        "for i in passwords:\n",
        "    \n",
        "    if len(i) < 6 or len(i) > 12:\n",
        "        continue\n",
        "\n",
        "    elif not re.search(\"([a-z])+\", i):\n",
        "        continue\n",
        "\n",
        "    elif not re.search(\"([A-Z])+\", i):\n",
        "        continue\n",
        "\n",
        "    elif not re.search(\"([0-9])+\", i):\n",
        "        continue\n",
        "\n",
        "    elif not re.search(\"([!@$%^&])+\", i):\n",
        "        continue\n",
        "\n",
        "    else:\n",
        "        accepted_pass.append(i)\n",
        "\n",
        "print((\" \").join(accepted_pass))\n"
      ]
    }
  ],
  "metadata": {
    "colab": {
      "provenance": []
    },
    "kernelspec": {
      "display_name": "Python 3",
      "name": "python3"
    },
    "language_info": {
      "name": "python"
    }
  },
  "nbformat": 4,
  "nbformat_minor": 0
}
