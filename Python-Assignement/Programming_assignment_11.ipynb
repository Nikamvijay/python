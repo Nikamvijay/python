{
  "cells": [
    {
      "attachments": {},
      "cell_type": "markdown",
      "metadata": {
        "id": "JiZEdzwlnDe1"
      },
      "source": [
        "1. Write a Python program to find words which are greater than given length k?\n"
      ]
    },
    {
      "cell_type": "code",
      "execution_count": 10,
      "metadata": {
        "colab": {
          "base_uri": "https://localhost:8080/"
        },
        "id": "isJNS176nOic",
        "outputId": "25b89bc0-3f8a-452b-fa54-635c649783e1"
      },
      "outputs": [
        {
          "name": "stdout",
          "output_type": "stream",
          "text": [
            "['python', 'langagues']\n"
          ]
        }
      ],
      "source": [
        "#k=int(input(\"Given length for words to compare: \"))\n",
        "#string=input(\"Enter the sentence of words\")\n",
        "k=5\n",
        "string='hello world the python is bes langagues'\n",
        "l=string.split(' ')\n",
        "stringnew=[]\n",
        "for i in l:\n",
        "   if len(i)>k:\n",
        "     stringnew.append(i)\n",
        "print(stringnew)"
      ]
    },
    {
      "attachments": {},
      "cell_type": "markdown",
      "metadata": {
        "id": "IuMCwp33nDb9"
      },
      "source": [
        "2. Write a Python program for removing i-th character from a string?\n"
      ]
    },
    {
      "cell_type": "code",
      "execution_count": 19,
      "metadata": {
        "colab": {
          "base_uri": "https://localhost:8080/"
        },
        "id": "fkTu9ZphqCcU",
        "outputId": "50770f40-bcb6-409b-e9af-2a522fe628fd"
      },
      "outputs": [
        {
          "name": "stdout",
          "output_type": "stream",
          "text": [
            "pakaj\n"
          ]
        }
      ],
      "source": [
        "string='pankaj'\n",
        "ith=2\n",
        "for i in range(len(string)):\n",
        "  if i==ith:\n",
        "    string=string.replace(string[i],'',1)\n",
        "    print(string)"
      ]
    },
    {
      "attachments": {},
      "cell_type": "markdown",
      "metadata": {
        "id": "oXELhjU8nCk0"
      },
      "source": [
        "3. Write a Python program to split and join a string?\n"
      ]
    },
    {
      "cell_type": "code",
      "execution_count": 25,
      "metadata": {
        "colab": {
          "base_uri": "https://localhost:8080/"
        },
        "id": "pg6MCudPtAMd",
        "outputId": "874fd7a5-f6be-44d2-8971-55842df17a3d"
      },
      "outputs": [
        {
          "name": "stdout",
          "output_type": "stream",
          "text": [
            "Spliting the string : ['Hello', 'i', 'am', 'pankaj', 'patil', 'student', 'at', 'ineuron', 'and', 'enthusist', 'data', 'scientist']\n",
            "join the list using join function:  Hello i am pankaj patil student at ineuron and enthusist data scientist\n"
          ]
        }
      ],
      "source": [
        "string='Hello i am pankaj patil student at ineuron and enthusist data scientist'\n",
        "splitstring=string.split(' ')\n",
        "print(\"Spliting the string :\",splitstring)\n",
        "joinlist=' '.join(splitstring)\n",
        "print(\"join the list using join function: \",joinlist)"
      ]
    },
    {
      "attachments": {},
      "cell_type": "markdown",
      "metadata": {
        "id": "Gzw0xA0qnCiN"
      },
      "source": [
        "4. Write a Python to check if a given string is binary string or not?\n"
      ]
    },
    {
      "cell_type": "code",
      "execution_count": 35,
      "metadata": {
        "colab": {
          "base_uri": "https://localhost:8080/"
        },
        "id": "4DYPITiivUmU",
        "outputId": "9269e77e-ad17-481d-9670-ad0409d30872"
      },
      "outputs": [
        {
          "name": "stdout",
          "output_type": "stream",
          "text": [
            "The Given string is Binary string\n"
          ]
        }
      ],
      "source": [
        "string='000111'\n",
        "setofstring=set(string)\n",
        "s = {'0', '1'}\n",
        "if setofstring=={'0'} or setofstring=={'1'} or s==setofstring:\n",
        "  print(\"The Given string is Binary string\")\n",
        "else:\n",
        "  print(\"The Given string is not Binary string\")"
      ]
    },
    {
      "attachments": {},
      "cell_type": "markdown",
      "metadata": {
        "id": "3s59tl3SnCft"
      },
      "source": [
        "5. Write a Python program to find uncommon words from two Strings?\n"
      ]
    },
    {
      "cell_type": "code",
      "execution_count": 44,
      "metadata": {
        "colab": {
          "base_uri": "https://localhost:8080/"
        },
        "id": "R8gZxP9ZxOsV",
        "outputId": "382d4757-557a-40be-e0ad-1f2e7617dc91"
      },
      "outputs": [
        {
          "data": {
            "text/plain": [
              "['the']"
            ]
          },
          "execution_count": 44,
          "metadata": {},
          "output_type": "execute_result"
        }
      ],
      "source": [
        "A='hello world here is python code'\n",
        "B='hello world here is the python code'\n",
        "# Function to return all uncommon words\n",
        "def UncommonWords(A, B):\n",
        "\tA=A.split()\n",
        "\tB=B.split()\n",
        "\tx=[]\n",
        "\tfor i in A:\n",
        "\t\tif i not in B:\n",
        "\t\t\tx.append(i)\n",
        "\tfor i in B:\n",
        "\t\tif i not in A:\n",
        "\t\t\tx.append(i)\n",
        "\tx=list(set(x))\n",
        "\treturn x\n",
        "\n",
        "UncommonWords(A,B)"
      ]
    },
    {
      "attachments": {},
      "cell_type": "markdown",
      "metadata": {
        "id": "QmYZTrJ2nCc1"
      },
      "source": [
        "6. Write a Python to find all duplicate characters in string?\n"
      ]
    },
    {
      "cell_type": "code",
      "execution_count": 46,
      "metadata": {
        "colab": {
          "base_uri": "https://localhost:8080/"
        },
        "id": "c1deALOD3VEZ",
        "outputId": "44bf1602-ef46-4438-aee1-568fb74a5c6c"
      },
      "outputs": [
        {
          "name": "stdout",
          "output_type": "stream",
          "text": [
            "l a\n"
          ]
        }
      ],
      "source": [
        "def find_dup_char(input):\n",
        "\tx=[]\n",
        "\tfor i in input:\n",
        "\t\tif i not in x and input.count(i)>1:\n",
        "\t\t\tx.append(i)\n",
        "\tprint(\" \".join(x))\n",
        "\n",
        "if __name__ == \"__main__\":\n",
        "\tinput = 'hello pankaj'\n",
        "\tfind_dup_char(input)"
      ]
    },
    {
      "attachments": {},
      "cell_type": "markdown",
      "metadata": {
        "id": "D_nFJGuTnCaA"
      },
      "source": [
        "7. Write a Python Program to check if a string contains any special character?\n"
      ]
    },
    {
      "cell_type": "code",
      "execution_count": 61,
      "metadata": {
        "colab": {
          "base_uri": "https://localhost:8080/"
        },
        "id": "fuFYslG2nM-U",
        "outputId": "34a9c81c-8f84-4981-8e80-6f6076322a0d"
      },
      "outputs": [
        {
          "name": "stdout",
          "output_type": "stream",
          "text": [
            "Given string present a Special Character #\n",
            "Given string present a Special Character @\n",
            "Given string present a Special Character _\n",
            "Given string present a Special Character !\n"
          ]
        }
      ],
      "source": [
        "from string import punctuation\n",
        "symbol=set(punctuation)\n",
        "#print(symbol)\n",
        "string='hello! # @ _'\n",
        "for i in symbol:\n",
        "  for j in string:\n",
        "    if i==j:\n",
        "      print(\"Given string present a Special Character {}\".format(j))"
      ]
    }
  ],
  "metadata": {
    "colab": {
      "provenance": []
    },
    "kernelspec": {
      "display_name": "Python 3",
      "name": "python3"
    },
    "language_info": {
      "name": "python"
    }
  },
  "nbformat": 4,
  "nbformat_minor": 0
}
