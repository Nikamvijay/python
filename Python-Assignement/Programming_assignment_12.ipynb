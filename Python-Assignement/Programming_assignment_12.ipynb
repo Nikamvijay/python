{
  "cells": [
    {
      "attachments": {},
      "cell_type": "markdown",
      "metadata": {
        "id": "6rxw34s37ysk"
      },
      "source": [
        "1. Write a Python program to Extract Unique values dictionary values?\n"
      ]
    },
    {
      "cell_type": "code",
      "execution_count": 5,
      "metadata": {
        "colab": {
          "base_uri": "https://localhost:8080/"
        },
        "id": "ywjHDEE377Cr",
        "outputId": "826eb272-da11-414b-9dd1-596a0ac4088a"
      },
      "outputs": [
        {
          "name": "stdout",
          "output_type": "stream",
          "text": [
            "The unique values list is : [1, 2, 5, 6, 7, 8, 11, 20, 30, 50, 100]\n"
          ]
        }
      ],
      "source": [
        "test_dict = {'name' : [5, 6, 7, 8],\n",
        "\t\t\t'id' : [20, 11, 7, 5],\n",
        "\t\t\t'salary' : [30, 50, 100, 8],\n",
        "\t\t\t'g' : [1, 2, 5]}\n",
        "\n",
        "# Extract Unique values dictionary values\n",
        "x=[]\n",
        "for i in test_dict.keys():\n",
        "\tx.extend(test_dict[i])\n",
        "x=list(set(x))\n",
        "\n",
        "x.sort()\n",
        "# printing result\n",
        "print(\"The unique values list is : \" + str(x))"
      ]
    },
    {
      "attachments": {},
      "cell_type": "markdown",
      "metadata": {
        "id": "JnGgbifF7yzM"
      },
      "source": [
        "2. Write a Python program to find the sum of all items in a dictionary?\n"
      ]
    },
    {
      "cell_type": "code",
      "execution_count": 8,
      "metadata": {
        "colab": {
          "base_uri": "https://localhost:8080/"
        },
        "id": "AWTuiZWFAK4E",
        "outputId": "69de2874-5ead-45f6-971f-91d1fb0013d2"
      },
      "outputs": [
        {
          "data": {
            "text/plain": [
              "240"
            ]
          },
          "execution_count": 8,
          "metadata": {},
          "output_type": "execute_result"
        }
      ],
      "source": [
        "test_dict = {'name' : [5, 6, 7, 8],\n",
        "\t\t\t'id' : [20, 11, 7, 5],\n",
        "\t\t\t'salary' : [30, 50, 100, 8],\n",
        "\t\t\t'g' : [1, 2, 5]}\n",
        "\n",
        "# Extract Unique values dictionary values\n",
        "x=[]\n",
        "for i in test_dict.keys():\n",
        "\tx.extend(test_dict[i])\n",
        "x=list(set(x))\n",
        "sum=0\n",
        "for i in x:\n",
        "  sum=sum+i\n",
        "sum_of_item=sum\n",
        "sum_of_item"
      ]
    },
    {
      "attachments": {},
      "cell_type": "markdown",
      "metadata": {
        "id": "NiziQTAG7y20"
      },
      "source": [
        "3. Write a Python program to Merging two Dictionaries?\n"
      ]
    },
    {
      "cell_type": "code",
      "execution_count": 10,
      "metadata": {
        "colab": {
          "base_uri": "https://localhost:8080/"
        },
        "id": "3kbMCI9lC-Ks",
        "outputId": "9d40b245-030c-4807-aefe-9ce130b4d72c"
      },
      "outputs": [
        {
          "name": "stdout",
          "output_type": "stream",
          "text": [
            "{'d': 6, 'c': 4, 'a': 10, 'b': 8, 'e': 100}\n"
          ]
        }
      ],
      "source": [
        "def Merge(dict1, dict2):\n",
        "\treturn(dict2.update(dict1))\n",
        "dict1 = {'a': 10, 'b': 8,'e':100}\n",
        "dict2 = {'d': 6, 'c': 4}\n",
        "Merge(dict1, dict2)\n",
        "print(dict2)"
      ]
    },
    {
      "attachments": {},
      "cell_type": "markdown",
      "metadata": {
        "id": "63cVB9bz7y5s"
      },
      "source": [
        "4. Write a Python program to convert key-values list to flat dictionary?\n"
      ]
    },
    {
      "cell_type": "code",
      "execution_count": 11,
      "metadata": {
        "colab": {
          "base_uri": "https://localhost:8080/"
        },
        "id": "O7eBSf_sDkX7",
        "outputId": "bd361d97-d3f4-4e8d-c0ce-8efdbd8452df"
      },
      "outputs": [
        {
          "name": "stdout",
          "output_type": "stream",
          "text": [
            "Flattened dictionary : {1: 'Jan', 2: 'Feb', 3: 'March'}\n"
          ]
        }
      ],
      "source": [
        "from itertools import product\n",
        "test_dict = {'month' : [1, 2, 3],\n",
        "\t\t\t'name' : ['Jan', 'Feb', 'March']}\n",
        "\n",
        "res = dict(zip(test_dict['month'], test_dict['name']))\n",
        "\n",
        "# printing result\n",
        "print(\"Flattened dictionary : \" + str(res))\n"
      ]
    },
    {
      "attachments": {},
      "cell_type": "markdown",
      "metadata": {
        "id": "Rnr09tcX7y8U"
      },
      "source": [
        "5. Write a Python program to insertion at the beginning in OrderedDict?\n"
      ]
    },
    {
      "cell_type": "code",
      "execution_count": 14,
      "metadata": {
        "colab": {
          "base_uri": "https://localhost:8080/"
        },
        "id": "iWn4jIC3EPqr",
        "outputId": "3c9d82d1-f18f-4eba-da8c-d2d64e1f1c63"
      },
      "outputs": [
        {
          "name": "stdout",
          "output_type": "stream",
          "text": [
            "Resultant Dictionary : OrderedDict([('manjeet', '3'), ('akshat', '1'), ('nikhil', '2')])\n"
          ]
        }
      ],
      "source": [
        "from collections import OrderedDict\n",
        "iniordered_dict = OrderedDict([('akshat', '1'), ('nikhil', '2')])\n",
        "iniordered_dict.update({'manjeet':'3'})\n",
        "iniordered_dict.move_to_end('manjeet', last = False)\n",
        "print (\"Resultant Dictionary : \"+str(iniordered_dict))"
      ]
    },
    {
      "attachments": {},
      "cell_type": "markdown",
      "metadata": {
        "id": "Gw2kEvDS7y-8"
      },
      "source": [
        "6. Write a Python program to check order of character in string using OrderedDict()?\n"
      ]
    },
    {
      "cell_type": "code",
      "execution_count": 15,
      "metadata": {
        "colab": {
          "base_uri": "https://localhost:8080/"
        },
        "id": "xdMNtltbEr--",
        "outputId": "f6a66100-a0a9-435d-839c-14ab94b57c2f"
      },
      "outputs": [
        {
          "name": "stdout",
          "output_type": "stream",
          "text": [
            "true\n"
          ]
        }
      ],
      "source": [
        "from collections import OrderedDict \n",
        "\n",
        "def checkOrder(input, pattern): \n",
        "\tdict = OrderedDict.fromkeys(input) \n",
        "\tptrlen = 0\n",
        "\tfor key,value in dict.items(): \n",
        "\t\tif (key == pattern[ptrlen]): \n",
        "\t\t\tptrlen = ptrlen + 1\n",
        "\t\tif (ptrlen == (len(pattern))): \n",
        "\t\t\treturn 'true'\n",
        "\treturn 'false'\n",
        "if __name__ == \"__main__\": \n",
        "\tinput = 'engineers rock'\n",
        "\tpattern = 'er'\n",
        "\tprint (checkOrder(input,pattern)) "
      ]
    },
    {
      "attachments": {},
      "cell_type": "markdown",
      "metadata": {
        "id": "BZ47--DY7zBl"
      },
      "source": [
        "7. Write a Python program to sort Python Dictionaries by Key or Value?\n"
      ]
    },
    {
      "cell_type": "code",
      "execution_count": 16,
      "metadata": {
        "colab": {
          "base_uri": "https://localhost:8080/"
        },
        "id": "rEvXn72PFHwc",
        "outputId": "784a7a72-cc91-404e-da04-0c6c448df928"
      },
      "outputs": [
        {
          "name": "stdout",
          "output_type": "stream",
          "text": [
            "{'rajnish': 9, 'ravi': 10, 'sanjeev': 15, 'suraj': 32, 'yash': 2}\n"
          ]
        }
      ],
      "source": [
        "myDict = {'ravi': 10, 'rajnish': 9,\n",
        "\t\t'sanjeev': 15, 'yash': 2, 'suraj': 32}\n",
        "\n",
        "myKeys = list(myDict.keys())\n",
        "myKeys.sort()\n",
        "sorted_dict = {i: myDict[i] for i in myKeys}\n",
        "\n",
        "print(sorted_dict)\n"
      ]
    }
  ],
  "metadata": {
    "colab": {
      "provenance": []
    },
    "kernelspec": {
      "display_name": "Python 3",
      "name": "python3"
    },
    "language_info": {
      "name": "python"
    }
  },
  "nbformat": 4,
  "nbformat_minor": 0
}
